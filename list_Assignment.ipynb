{
 "cells": [
  {
   "cell_type": "markdown",
   "id": "1bf572d3-0475-4ed5-ac6e-aa3b0cfa9daf",
   "metadata": {},
   "source": [
    "# Module 3: Data Structures Assignments\n",
    "## Lesson 3.1: Lists\n",
    "### Assignment 1: Creating and Accessing Lists\n",
    "\n",
    "Create a list of the first 20 positive integers. Print the list.\n",
    "\n",
    "### Assignment 2: Accessing List Elements\n",
    "\n",
    "Print the first, middle, and last elements of the list created in Assignment 1.\n",
    "\n",
    "### Assignment 3: List Slicing\n",
    "\n",
    "Print the first five elements, the last five elements, and the elements from index 5 to 15 of the list created in Assignment 1.\n",
    "\n",
    "### Assignment 4: List Comprehensions\n",
    "\n",
    "Create a new list containing the squares of the first 10 positive integers using a list comprehension. Print the new list.\n",
    "\n",
    "### Assignment 5: Filtering Lists\n",
    "\n",
    "Create a new list containing only the even numbers from the list created in Assignment 1 using a list comprehension. Print the new list.\n",
    "\n",
    "### Assignment 6: List Methods\n",
    "\n",
    "Create a list of random numbers and sort it in ascending and descending order. Remove the duplicates from the list and print the modified list.\n",
    "\n",
    "### Assignment 7: Nested Lists\n",
    "\n",
    "Create a nested list representing a 3x3 matrix and print the matrix. Access and print the element at the second row and third column.\n",
    "\n",
    "### Assignment 8: List of Dictionaries\n",
    "\n",
    "Create a list of dictionaries where each dictionary represents a student with keys 'name' and 'score'. Sort the list of dictionaries by the 'score' in descending order and print the sorted list.\n",
    "\n",
    "### Assignment 9: Matrix Transposition\n",
    "\n",
    "Write a function that takes a 3x3 matrix (nested list) as input and returns its transpose. Print the original and transposed matrices.\n",
    "\n",
    "### Assignment 10: Flattening a Nested List\n",
    "\n",
    "Write a function that takes a nested list and flattens it into a single list. Print the original and flattened lists.\n",
    "\n",
    "### Assignment 11: List Manipulation\n",
    "\n",
    "Create a list of the first 10 positive integers. Remove the elements at indices 2, 4, and 6, and insert the element '99' at index 5. Print the modified list.\n",
    "\n",
    "### Assignment 12: List Zipping\n",
    "\n",
    "Create two lists of the same length. Use the `zip` function to combine these lists into a list of tuples and print the result.\n",
    "\n",
    "### Assignment 13: List Reversal\n",
    "\n",
    "Write a function that takes a list and returns a new list with the elements in reverse order. Print the original and reversed lists.\n",
    "\n",
    "### Assignment 14: List Rotation\n",
    "\n",
    "Write a function that rotates a list by n positions. Print the original and rotated lists.\n",
    "\n",
    "### Assignment 15: List Intersection\n",
    "\n",
    "Write a function that takes two lists and returns a new list containing only the elements that are present in both lists. Print the intersected list."
   ]
  },
  {
   "cell_type": "code",
   "execution_count": 1,
   "id": "5af30476",
   "metadata": {},
   "outputs": [
    {
     "name": "stdout",
     "output_type": "stream",
     "text": [
      "[1, 2, 3, 4, 5, 6, 7, 8, 9, 10, 11, 12, 13, 14, 15, 16, 17, 18, 19, 20]\n"
     ]
    }
   ],
   "source": [
    "#assignment1\n",
    "numbers = list(range(1, 21))\n",
    "print(numbers)\n"
   ]
  },
  {
   "cell_type": "code",
   "execution_count": 2,
   "id": "0d7cf4bf-d7e7-4f9d-aa65-9c6b15af9e30",
   "metadata": {},
   "outputs": [
    {
     "name": "stdout",
     "output_type": "stream",
     "text": [
      "1\n",
      "11\n",
      "20\n"
     ]
    }
   ],
   "source": [
    "#Assignemnt 2\n",
    "numbers = list(range(1, 21))\n",
    "print(numbers[0])\n",
    "print(numbers[len(numbers)//2])\n",
    "print(numbers[-1])\n"
   ]
  },
  {
   "cell_type": "code",
   "execution_count": 3,
   "id": "6eaf3624-8ef9-4530-881f-b96a01c6d5ef",
   "metadata": {},
   "outputs": [
    {
     "name": "stdout",
     "output_type": "stream",
     "text": [
      "[1, 2, 3, 4, 5]\n",
      "[16, 17, 18, 19, 20]\n",
      "[6, 7, 8, 9, 10, 11, 12, 13, 14, 15, 16]\n"
     ]
    }
   ],
   "source": [
    "#Assignment 3\n",
    "numbers = list(range(1, 21))\n",
    "print(numbers[:5])\n",
    "print(numbers[-5:])\n",
    "print(numbers[5:16])"
   ]
  },
  {
   "cell_type": "code",
   "execution_count": 4,
   "id": "316a6287-4ec0-4905-b091-59a719e97d80",
   "metadata": {},
   "outputs": [
    {
     "name": "stdout",
     "output_type": "stream",
     "text": [
      "[1, 4, 9, 16, 25, 36, 49, 64, 81, 100]\n"
     ]
    }
   ],
   "source": [
    "#Assignment 4\n",
    "sq= [x**2 for x in range(1, 11)]\n",
    "print(sq)\n"
   ]
  },
  {
   "cell_type": "code",
   "execution_count": 5,
   "id": "bda770d8-a4fd-4c55-8b0b-bb01d1be4e7b",
   "metadata": {},
   "outputs": [
    {
     "name": "stdout",
     "output_type": "stream",
     "text": [
      "[2, 4, 6, 8, 10, 12, 14, 16, 18, 20]\n"
     ]
    }
   ],
   "source": [
    "#assignment5\n",
    "numbers = list(range(1, 21))\n",
    "even_no = [x for x in numbers if x % 2 == 0]\n",
    "print(even_no)\n"
   ]
  },
  {
   "cell_type": "code",
   "execution_count": 8,
   "id": "0241dd87-a95a-47d2-a121-0113da2cad00",
   "metadata": {},
   "outputs": [
    {
     "name": "stdout",
     "output_type": "stream",
     "text": [
      "[1, 2, 3, 3, 5, 5, 8, 8, 9]\n",
      "[9, 8, 8, 5, 5, 3, 3, 2, 1]\n",
      "[1, 2, 3, 5, 8, 9]\n"
     ]
    }
   ],
   "source": [
    "#assignment 6\n",
    "numbers = [5, 3, 8, 3, 9, 1, 5, 2, 8]\n",
    "numbers.sort()\n",
    "print(numbers)\n",
    "numbers.sort(reverse=True)\n",
    "print(numbers)\n",
    "numbers = list(set(numbers))\n",
    "print(numbers)"
   ]
  },
  {
   "cell_type": "code",
   "execution_count": 9,
   "id": "dc601665-f997-4297-9ee5-6075cc6bfe70",
   "metadata": {},
   "outputs": [
    {
     "name": "stdout",
     "output_type": "stream",
     "text": [
      "[[1, 2, 3], [4, 5, 6], [7, 8, 9]]\n",
      "6\n"
     ]
    }
   ],
   "source": [
    "#Assignemnt 7\n",
    "matrix = [[1, 2, 3], [4, 5, 6], [7, 8, 9]]\n",
    "print(matrix)\n",
    "print(matrix[1][2])"
   ]
  },
  {
   "cell_type": "code",
   "execution_count": 11,
   "id": "a9d5f003-1452-4f15-80bc-f192f35cd8bd",
   "metadata": {},
   "outputs": [
    {
     "name": "stdout",
     "output_type": "stream",
     "text": [
      "[{'name': 'Yuvaraj', 'score': 98}, {'name': 'Karthi', 'score': 95}, {'name': 'Raj', 'score': 92}]\n"
     ]
    }
   ],
   "source": [
    "#assignmenrt 8\n",
    "students = [\n",
    "    {'name': 'Karthi', 'score': 95},\n",
    "    {'name': 'Raj', 'score': 92},\n",
    "    {'name': 'Yuvaraj', 'score': 98}\n",
    "]\n",
    "students.sort(key=lambda x: x['score'], reverse=True)\n",
    "print(students)\n"
   ]
  },
  {
   "cell_type": "code",
   "execution_count": 12,
   "id": "cf6c4480-fffe-453b-a48c-9e10449a026b",
   "metadata": {},
   "outputs": [
    {
     "name": "stdout",
     "output_type": "stream",
     "text": [
      "Original Matrix: [[1, 2, 3], [4, 5, 6], [7, 8, 9]]\n",
      "Transposed Matrix: [[1, 4, 7], [2, 5, 8], [3, 6, 9]]\n"
     ]
    }
   ],
   "source": [
    "#Assignemnt 9\n",
    "def transpose(matrix):\n",
    "    return [[matrix[j][i] for j in range(len(matrix))] for i in range(len(matrix[0]))]\n",
    "\n",
    "matrix = [[1, 2, 3], [4, 5, 6], [7, 8, 9]]\n",
    "print(\"Original Matrix:\", matrix)\n",
    "print(\"Transposed Matrix:\", transpose(matrix))"
   ]
  },
  {
   "cell_type": "code",
   "execution_count": 13,
   "id": "a886b50c-3974-4eba-8663-397d0943e801",
   "metadata": {},
   "outputs": [
    {
     "name": "stdout",
     "output_type": "stream",
     "text": [
      "Original List: [[1, 2, 3], [4, 5], [6, 7, 8]]\n",
      "Flattened List: [1, 2, 3, 4, 5, 6, 7, 8]\n"
     ]
    }
   ],
   "source": [
    "#assignment 10\n",
    "def flatten_list(nested_list):\n",
    "    return [item for sublist in nested_list for item in sublist]\n",
    "\n",
    "nested_list = [[1, 2, 3], [4, 5], [6, 7, 8]]\n",
    "print(\"Original List:\", nested_list)\n",
    "print(\"Flattened List:\", flatten_list(nested_list))"
   ]
  },
  {
   "cell_type": "code",
   "execution_count": 14,
   "id": "cc5a2d58-b364-417b-8dd2-645400ea5756",
   "metadata": {},
   "outputs": [
    {
     "name": "stdout",
     "output_type": "stream",
     "text": [
      "[1, 2, 4, 6, 8, 99, 9, 10]\n"
     ]
    }
   ],
   "source": [
    "#aasignment 11\n",
    "numbers = list(range(1, 11))\n",
    "for index in sorted([2, 4, 6], reverse=True):\n",
    "    numbers.pop(index)\n",
    "numbers.insert(5, 99)\n",
    "print(numbers)"
   ]
  },
  {
   "cell_type": "code",
   "execution_count": 15,
   "id": "6501feba-ad00-4e4e-88d1-31dcd906a212",
   "metadata": {},
   "outputs": [
    {
     "name": "stdout",
     "output_type": "stream",
     "text": [
      "[(1, 'a'), (2, 'b'), (3, 'c'), (4, 'd'), (5, 'e')]\n"
     ]
    }
   ],
   "source": [
    "#12\n",
    "list1 = [1, 2, 3, 4, 5]\n",
    "list2 = ['a', 'b', 'c', 'd', 'e']\n",
    "zipped_list = list(zip(list1, list2))\n",
    "print(zipped_list)"
   ]
  },
  {
   "cell_type": "code",
   "execution_count": 16,
   "id": "64b19c15-6c7d-4351-bd32-ac372341df72",
   "metadata": {},
   "outputs": [
    {
     "name": "stdout",
     "output_type": "stream",
     "text": [
      "Original List: [1, 2, 3, 4, 5]\n",
      "Reversed List: [5, 4, 3, 2, 1]\n"
     ]
    }
   ],
   "source": [
    "#13\n",
    "def reverse_list(lst):\n",
    "    return lst[::-1]\n",
    "\n",
    "numbers = [1, 2, 3, 4, 5]\n",
    "print(\"Original List:\", numbers)\n",
    "print(\"Reversed List:\", reverse_list(numbers))"
   ]
  },
  {
   "cell_type": "code",
   "execution_count": 17,
   "id": "ea205311-e64b-4a68-a045-bd51559702be",
   "metadata": {},
   "outputs": [
    {
     "name": "stdout",
     "output_type": "stream",
     "text": [
      "Original List: [1, 2, 3, 4, 5]\n",
      "Rotated List: [4, 5, 1, 2, 3]\n"
     ]
    }
   ],
   "source": [
    "#14\n",
    "def rotate_list(lst, n):\n",
    "    n = n % len(lst)\n",
    "    return lst[-n:] + lst[:-n]\n",
    "\n",
    "numbers = [1, 2, 3, 4, 5]\n",
    "rotated = rotate_list(numbers, 2)\n",
    "print(\"Original List:\", numbers)\n",
    "print(\"Rotated List:\", rotated)"
   ]
  },
  {
   "cell_type": "code",
   "execution_count": 18,
   "id": "aca9de90-7411-458b-b9e0-79f717e42b80",
   "metadata": {},
   "outputs": [
    {
     "name": "stdout",
     "output_type": "stream",
     "text": [
      "Intersected List: [4, 5]\n"
     ]
    }
   ],
   "source": [
    "#15\n",
    "def list_intersection(list1, list2):\n",
    "    return [x for x in list1 if x in list2]\n",
    "\n",
    "list1 = [1, 2, 3, 4, 5]\n",
    "list2 = [4, 5, 6, 7, 8]\n",
    "print(\"Intersected List:\", list_intersection(list1, list2))"
   ]
  }
 ],
 "metadata": {
  "kernelspec": {
   "display_name": "Python 3 (ipykernel)",
   "language": "python",
   "name": "python3"
  },
  "language_info": {
   "codemirror_mode": {
    "name": "ipython",
    "version": 3
   },
   "file_extension": ".py",
   "mimetype": "text/x-python",
   "name": "python",
   "nbconvert_exporter": "python",
   "pygments_lexer": "ipython3",
   "version": "3.13.5"
  }
 },
 "nbformat": 4,
 "nbformat_minor": 5
}
